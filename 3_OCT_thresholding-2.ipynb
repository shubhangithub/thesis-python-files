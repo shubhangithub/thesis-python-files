{
  "nbformat": 4,
  "nbformat_minor": 0,
  "metadata": {
    "colab": {
      "provenance": []
    },
    "kernelspec": {
      "name": "python3",
      "display_name": "Python 3"
    },
    "language_info": {
      "name": "python"
    }
  },
  "cells": [
    {
      "cell_type": "markdown",
      "source": [
        "# otsu"
      ],
      "metadata": {
        "id": "iAXLiH5qPrQ5"
      }
    },
    {
      "cell_type": "code",
      "execution_count": null,
      "metadata": {
        "id": "2waBP8tMPnGU"
      },
      "outputs": [],
      "source": [
        "import numpy as np\n",
        "import pandas as pd\n",
        "from skimage.filters import threshold_otsu\n",
        "\n",
        "def otsu_thresholding(df, marker_columns):\n",
        "    \"\"\"\n",
        "    Apply Otsu's thresholding method to each marker column in the dataset using skimage library.\n",
        "\n",
        "    Args:\n",
        "    df (pd.DataFrame): DataFrame containing marker intensity values.\n",
        "    marker_columns (list): List of marker columns to compute the thresholds for.\n",
        "\n",
        "    Returns:\n",
        "    dict: A dictionary with the optimal thresholds for each marker.\n",
        "    \"\"\"\n",
        "    thresholds = {}\n",
        "\n",
        "    for marker in marker_columns:\n",
        "        # Get the intensity values for the current marker\n",
        "        intensities = df[marker].values\n",
        "\n",
        "        # Use skimage's Otsu method to find the optimal threshold\n",
        "        optimal_threshold = threshold_otsu(intensities)\n",
        "\n",
        "        # Store the optimal threshold for the current marker\n",
        "        thresholds[marker] = optimal_threshold\n",
        "\n",
        "    return thresholds\n",
        "\n",
        "# Example usage:\n",
        "# df = pd.read_csv(\"your_data.csv\")\n",
        "# marker_columns = ['CD66b', 'CD56', 'CD4', 'CTLA4', 'CD8', 'CD20']\n",
        "# thresholds = otsu_thresholding(df, marker_columns)\n",
        "# print(thresholds)\n"
      ]
    },
    {
      "cell_type": "markdown",
      "source": [
        "# IsoData"
      ],
      "metadata": {
        "id": "CU5pDNgyPtDL"
      }
    },
    {
      "cell_type": "code",
      "source": [
        "import numpy as np\n",
        "import pandas as pd\n",
        "\n",
        "def isodata_thresholding(df, marker_columns, epsilon=1e-5, max_iter=1000):\n",
        "    \"\"\"\n",
        "    Apply the IsoData thresholding method to each marker column in the dataset.\n",
        "\n",
        "    Args:\n",
        "    df (pd.DataFrame): DataFrame containing marker intensity values.\n",
        "    marker_columns (list): List of marker columns to compute the thresholds for.\n",
        "    epsilon (float): Convergence tolerance for the threshold update.\n",
        "    max_iter (int): Maximum number of iterations allowed.\n",
        "\n",
        "    Returns:\n",
        "    dict: A dictionary with the optimal thresholds for each marker.\n",
        "    \"\"\"\n",
        "    thresholds = {}\n",
        "\n",
        "    for marker in marker_columns:\n",
        "        # Get the intensity values for the current marker\n",
        "        intensities = df[marker].values\n",
        "\n",
        "        # Initialize the threshold as the mean of the intensities\n",
        "        threshold = np.mean(intensities)\n",
        "\n",
        "        for _ in range(max_iter):\n",
        "            # Partition the cells into two classes based on the current threshold\n",
        "            C0 = intensities[intensities <= threshold]\n",
        "            C1 = intensities[intensities > threshold]\n",
        "\n",
        "            if len(C0) == 0 or len(C1) == 0:\n",
        "                break\n",
        "\n",
        "            # Compute the means of the two classes\n",
        "            mu_0 = np.mean(C0)\n",
        "            mu_1 = np.mean(C1)\n",
        "\n",
        "            # Update the threshold as the average of the two class means\n",
        "            new_threshold = (mu_0 + mu_1) / 2\n",
        "\n",
        "            # Check for convergence\n",
        "            if np.abs(new_threshold - threshold) < epsilon:\n",
        "                break\n",
        "\n",
        "            # Update the threshold for the next iteration\n",
        "            threshold = new_threshold\n",
        "\n",
        "        # Store the final threshold for the current marker\n",
        "        thresholds[marker] = threshold\n",
        "\n",
        "    return thresholds\n",
        "\n",
        "# Example usage:\n",
        "# df = pd.read_csv(\"your_data.csv\")\n",
        "# marker_columns = ['CD66b', 'CD56', 'CD4', 'CTLA4', 'CD8', 'CD20']\n",
        "# thresholds_isodata = isodata_thresholding(df, marker_columns)\n",
        "# print(thresholds_isodata)\n"
      ],
      "metadata": {
        "id": "MysaepwoPvjd"
      },
      "execution_count": null,
      "outputs": []
    },
    {
      "cell_type": "markdown",
      "source": [
        "# A Modified Version of GMM"
      ],
      "metadata": {
        "id": "6kL26vMbQOAI"
      }
    },
    {
      "cell_type": "code",
      "source": [
        "from sklearn.mixture import GaussianMixture\n",
        "import numpy as np\n",
        "\n",
        "def apply_gmm_thresholding(data_df, markers, max_components=10, random_state=42):\n",
        "    thresholds = {}\n",
        "\n",
        "    for marker in markers:\n",
        "        # Extract marker values\n",
        "        marker_values = data_df[[marker]].values\n",
        "\n",
        "        # Best GMM selection based on BIC\n",
        "        best_gmm = None\n",
        "        lowest_bic = np.inf\n",
        "        best_n_components = 2  # Start with 2 components by default\n",
        "\n",
        "        # Try different number of components (K)\n",
        "        for n_components in range(2, max_components + 1):\n",
        "            gmm = GaussianMixture(n_components=n_components, random_state=random_state)\n",
        "            gmm.fit(marker_values)\n",
        "            bic = gmm.bic(marker_values)\n",
        "\n",
        "            if bic < lowest_bic:\n",
        "                lowest_bic = bic\n",
        "                best_gmm = gmm\n",
        "                best_n_components = n_components\n",
        "\n",
        "        # Handle K = 2 case (simple thresholding)\n",
        "        if best_n_components == 2:\n",
        "            threshold = np.mean(best_gmm.means_)\n",
        "\n",
        "        # Handle K > 2 case (custom thresholding based on largest gap)\n",
        "        else:\n",
        "            means = np.sort(best_gmm.means_.flatten())\n",
        "            delta_means = np.diff(means)\n",
        "            k_boundary = np.argmax(delta_means)\n",
        "            threshold = (means[k_boundary] + means[k_boundary + 1]) / 2\n",
        "\n",
        "        # Store threshold and create binary column for above threshold\n",
        "        thresholds[marker] = threshold\n",
        "\n",
        "\n",
        "    return thresholds\n",
        "\n",
        "# Example usage:\n",
        "# data_df = pd.read_csv(\"your_data.csv\")\n",
        "# markers = ['CD66b', 'CD56', 'CD4', 'CTLA4', 'CD8', 'CD20']\n",
        "# updated_df, thresholds = apply_gmm_thresholding(data_df, markers)\n",
        "# print(\"GMM Thresholds:\", thresholds)\n"
      ],
      "metadata": {
        "id": "ONpzDlYvQVvD"
      },
      "execution_count": null,
      "outputs": []
    },
    {
      "cell_type": "markdown",
      "source": [
        "# minimum cross-entropy"
      ],
      "metadata": {
        "id": "0uVJIWF8R1Am"
      }
    },
    {
      "cell_type": "code",
      "source": [
        "def min_cross_entropy_thresholding(data_df, marker_columns, candidate_thresholds, dist_name='normal'):\n",
        "    \"\"\"\n",
        "    Apply Minimum Cross-Entropy Thresholding for each marker in the DataFrame.\n",
        "\n",
        "    Args:\n",
        "    data_df: DataFrame containing the marker intensity values.\n",
        "    marker_columns: List of marker columns to apply the thresholding.\n",
        "    candidate_thresholds: Dictionary of candidate thresholds for each marker.\n",
        "    dist_name: Distribution to use ('normal', 'lognormal', 'gamma', 'exponential').\n",
        "\n",
        "    Returns:\n",
        "    dict: A dictionary with the optimal threshold for each marker.\n",
        "    \"\"\"\n",
        "    thresholds = {}\n",
        "\n",
        "    for marker in marker_columns:\n",
        "        data = data_df[marker].values\n",
        "        unique_thresholds = candidate_thresholds[marker]  # Now correctly referencing marker-specific thresholds\n",
        "\n",
        "        def objective(threshold):\n",
        "            non_expressing = data[data <= threshold]\n",
        "            expressing = data[data > threshold]\n",
        "\n",
        "            if len(non_expressing) == 0 or len(expressing) == 0:\n",
        "                return np.inf  # Avoid empty class case\n",
        "\n",
        "            dist_non_exp = fit_distribution(non_expressing, dist_name)\n",
        "            dist_exp = fit_distribution(expressing, dist_name)\n",
        "\n",
        "            if dist_non_exp is None or dist_exp is None:\n",
        "                return np.inf\n",
        "\n",
        "            # Compute cross-entropy\n",
        "            p0 = dist_non_exp.pdf(non_expressing)\n",
        "            p1 = dist_exp.pdf(expressing)\n",
        "\n",
        "            ce_non_exp = cross_entropy(non_expressing, p0)\n",
        "            ce_exp = cross_entropy(expressing, p1)\n",
        "\n",
        "            return ce_non_exp + ce_exp\n",
        "\n",
        "        # Use scipy's minimize to find the optimal threshold\n",
        "        result = minimize(objective, x0=[np.median(data)], bounds=[(min(data), max(data))])\n",
        "\n",
        "        # Store the best threshold\n",
        "        thresholds[marker] = result.x[0] if result.success else None\n",
        "\n",
        "    return thresholds\n"
      ],
      "metadata": {
        "id": "g0GrQh9QR3XT"
      },
      "execution_count": null,
      "outputs": []
    },
    {
      "cell_type": "markdown",
      "source": [
        "# generate candiadate thresholds"
      ],
      "metadata": {
        "id": "d1_FJNmjB7NC"
      }
    },
    {
      "cell_type": "code",
      "source": [
        "def generate_candidate_thresholds(df, marker_columns):\n",
        "    \"\"\"\n",
        "    Generate candidate thresholds based on unique intensity values for each marker.\n",
        "\n",
        "    Args:\n",
        "    df (pd.DataFrame): DataFrame containing marker intensity values.\n",
        "    marker_columns (list): List of marker columns to compute the thresholds for.\n",
        "\n",
        "    Returns:\n",
        "    dict: A dictionary with marker names as keys and their corresponding unique intensity thresholds as values.\n",
        "    \"\"\"\n",
        "    candidate_thresholds = {}\n",
        "\n",
        "    for marker in marker_columns:\n",
        "        # Get the unique intensity values for the current marker, sorted\n",
        "        unique_intensities = np.sort(df[marker].unique())\n",
        "        candidate_thresholds[marker] = unique_intensities\n",
        "\n",
        "    return candidate_thresholds\n",
        "\n",
        "# Example usage:\n",
        "# df = pd.read_csv(\"your_data.csv\")\n",
        "# marker_columns = ['CD66b', 'CD56', 'CD4', 'CTLA4', 'CD8', 'CD20']\n",
        "# candidate_thresholds = generate_candidate_thresholds(df, marker_columns)\n",
        "# print(candidate_thresholds)\n"
      ],
      "metadata": {
        "id": "y7sxzCmVB6mU"
      },
      "execution_count": null,
      "outputs": []
    },
    {
      "cell_type": "markdown",
      "source": [
        "# load and run data"
      ],
      "metadata": {
        "id": "tMJzAcvcS8W_"
      }
    },
    {
      "cell_type": "code",
      "source": [
        " import pandas as pd\n",
        "\n",
        "# Load your data\n",
        "df = pd.read_csv(\"/content/umap_filtered_002_TU2_Immune_2_thresholded_encoded.csv\")\n",
        "\n",
        "marker_columns = ['CD66b', 'CD56', 'CD4', 'CTLA4', 'CD8', 'CD20']\n",
        "\n",
        "thresholds_otsu = otsu_thresholding(df, marker_columns)\n",
        "print(\"Otsu Thresholds:\", thresholds_otsu)\n",
        "\n",
        "\n",
        "thresholds_isodata = isodata_thresholding(df, marker_columns)\n",
        "print(\"IsoData Thresholds:\", thresholds_isodata)\n",
        "\n",
        "thresholds_gmm = modified_gmm_thresholding(df, marker_columns)\n",
        "print(\"GMM Thresholds:\", thresholds_gmm)\n",
        "\n",
        "candidate_thresholds = generate_candidate_thresholds(df, marker_columns)\n",
        "\n",
        "\n",
        "for marker in marker_columns:\n",
        "    thresholds_mce = min_cross_entropy_thresholding(df, [marker], candidate_thresholds)\n",
        "    print(f\"Minimum Cross-Entropy Threshold for {marker}: {thresholds_mce}\")\n",
        "\n"
      ],
      "metadata": {
        "colab": {
          "base_uri": "https://localhost:8080/"
        },
        "id": "UsUF2NCkS-Kb",
        "outputId": "323ce1a2-cf02-4a7c-dba7-35762793a30a"
      },
      "execution_count": null,
      "outputs": [
        {
          "output_type": "stream",
          "name": "stdout",
          "text": [
            "Otsu Thresholds: {'CD66b': 11.399895365332032, 'CD56': 3.4436964739765625, 'CD4': 4.638822374882812, 'CTLA4': 1.7203896906113283, 'CD8': 2.993261530101562, 'CD20': 1.8819881087285157}\n",
            "IsoData Thresholds: {'CD66b': 11.508348076880885, 'CD56': 3.468594647486471, 'CD4': 4.659877346459998, 'CTLA4': 1.7343134856874514, 'CD8': 3.0127165920619516, 'CD20': 1.885931165886635}\n"
          ]
        },
        {
          "output_type": "stream",
          "name": "stderr",
          "text": [
            "/usr/local/lib/python3.10/dist-packages/sklearn/mixture/_base.py:270: ConvergenceWarning: Best performing initialization did not converge. Try different init parameters, or increase max_iter, tol, or check for degenerate data.\n",
            "  warnings.warn(\n",
            "/usr/local/lib/python3.10/dist-packages/sklearn/mixture/_base.py:270: ConvergenceWarning: Best performing initialization did not converge. Try different init parameters, or increase max_iter, tol, or check for degenerate data.\n",
            "  warnings.warn(\n",
            "/usr/local/lib/python3.10/dist-packages/sklearn/mixture/_base.py:270: ConvergenceWarning: Best performing initialization did not converge. Try different init parameters, or increase max_iter, tol, or check for degenerate data.\n",
            "  warnings.warn(\n",
            "/usr/local/lib/python3.10/dist-packages/sklearn/mixture/_base.py:270: ConvergenceWarning: Best performing initialization did not converge. Try different init parameters, or increase max_iter, tol, or check for degenerate data.\n",
            "  warnings.warn(\n",
            "/usr/local/lib/python3.10/dist-packages/sklearn/mixture/_base.py:270: ConvergenceWarning: Best performing initialization did not converge. Try different init parameters, or increase max_iter, tol, or check for degenerate data.\n",
            "  warnings.warn(\n",
            "/usr/local/lib/python3.10/dist-packages/sklearn/mixture/_base.py:270: ConvergenceWarning: Best performing initialization did not converge. Try different init parameters, or increase max_iter, tol, or check for degenerate data.\n",
            "  warnings.warn(\n",
            "/usr/local/lib/python3.10/dist-packages/sklearn/mixture/_base.py:270: ConvergenceWarning: Best performing initialization did not converge. Try different init parameters, or increase max_iter, tol, or check for degenerate data.\n",
            "  warnings.warn(\n",
            "/usr/local/lib/python3.10/dist-packages/sklearn/mixture/_base.py:270: ConvergenceWarning: Best performing initialization did not converge. Try different init parameters, or increase max_iter, tol, or check for degenerate data.\n",
            "  warnings.warn(\n",
            "/usr/local/lib/python3.10/dist-packages/sklearn/mixture/_base.py:270: ConvergenceWarning: Best performing initialization did not converge. Try different init parameters, or increase max_iter, tol, or check for degenerate data.\n",
            "  warnings.warn(\n",
            "/usr/local/lib/python3.10/dist-packages/sklearn/mixture/_base.py:270: ConvergenceWarning: Best performing initialization did not converge. Try different init parameters, or increase max_iter, tol, or check for degenerate data.\n",
            "  warnings.warn(\n",
            "/usr/local/lib/python3.10/dist-packages/sklearn/mixture/_base.py:270: ConvergenceWarning: Best performing initialization did not converge. Try different init parameters, or increase max_iter, tol, or check for degenerate data.\n",
            "  warnings.warn(\n",
            "/usr/local/lib/python3.10/dist-packages/sklearn/mixture/_base.py:270: ConvergenceWarning: Best performing initialization did not converge. Try different init parameters, or increase max_iter, tol, or check for degenerate data.\n",
            "  warnings.warn(\n"
          ]
        },
        {
          "output_type": "stream",
          "name": "stdout",
          "text": [
            "GMM Thresholds: {'CD66b': 59.686612166381806, 'CD56': 8.895729362193556, 'CD4': 5.335314741581406, 'CTLA4': 2.6929802382809442, 'CD8': 6.2596334253947905, 'CD20': 1.4140196167568204}\n",
            "Minimum Cross-Entropy Threshold for CD66b: {'CD66b': 0.013985693}\n",
            "Minimum Cross-Entropy Threshold for CD56: {'CD56': 3.255864025}\n",
            "Minimum Cross-Entropy Threshold for CD4: {'CD4': 2.382756981}\n",
            "Minimum Cross-Entropy Threshold for CTLA4: {'CTLA4': 1.889522099}\n",
            "Minimum Cross-Entropy Threshold for CD8: {'CD8': 2.7746521}\n",
            "Minimum Cross-Entropy Threshold for CD20: {'CD20': 1.802490234}\n"
          ]
        }
      ]
    }
  ]
}